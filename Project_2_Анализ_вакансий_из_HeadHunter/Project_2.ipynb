{
  "cells": [
    {
      "cell_type": "markdown",
      "id": "42289889-bd57-434e-9637-d3e354756316",
      "metadata": {
        "id": "42289889-bd57-434e-9637-d3e354756316"
      },
      "source": [
        "<center> <img src = https://raw.githubusercontent.com/AndreyRysistov/DatasetsForPandas/main/hh%20label.jpg alt=\"drawing\" style=\"width:400px;\">"
      ]
    },
    {
      "cell_type": "markdown",
      "id": "829cb75b-f14e-4ba8-9195-7ba929a7d656",
      "metadata": {
        "id": "829cb75b-f14e-4ba8-9195-7ba929a7d656",
        "tags": []
      },
      "source": [
        "# <center> Проект: Анализ вакансий из HeadHunter\n",
        "   "
      ]
    },
    {
      "cell_type": "code",
      "execution_count": 3,
      "id": "dccfde33-2452-43fb-a8a5-5c6ebc02a71d",
      "metadata": {
        "id": "dccfde33-2452-43fb-a8a5-5c6ebc02a71d"
      },
      "outputs": [],
      "source": [
        "import pandas as pd\n",
        "import psycopg2"
      ]
    },
    {
      "cell_type": "code",
      "execution_count": 53,
      "id": "oVKH4ehvf8Ay",
      "metadata": {
        "id": "oVKH4ehvf8Ay"
      },
      "outputs": [],
      "source": [
        "# вставьте сюда параметры подключения из юнита 1. Работа с базой данных из Python \n",
        "DBNAME = 'project_sql'\n",
        "USER = 'skillfactory'\n",
        "PASSWORD = 'cCkxxLVrDE8EbvjueeMedPKt'\n",
        "HOST = '84.201.134.129'\n",
        "PORT = 5432"
      ]
    },
    {
      "cell_type": "code",
      "execution_count": 54,
      "id": "G4X_q8KBf7SF",
      "metadata": {
        "id": "G4X_q8KBf7SF"
      },
      "outputs": [],
      "source": [
        "connection = psycopg2.connect(\n",
        "    dbname=DBNAME,\n",
        "    user=USER,\n",
        "    host=HOST,\n",
        "    password=PASSWORD,\n",
        "    port=PORT\n",
        ")"
      ]
    },
    {
      "cell_type": "markdown",
      "id": "0dc6476b-7a00-44f1-ac93-6e3baed33a29",
      "metadata": {
        "id": "0dc6476b-7a00-44f1-ac93-6e3baed33a29"
      },
      "source": [
        "# Юнит 3. Предварительный анализ данных"
      ]
    },
    {
      "cell_type": "markdown",
      "id": "889782b6-8d1c-410e-8920-e57f27917c64",
      "metadata": {
        "id": "889782b6-8d1c-410e-8920-e57f27917c64"
      },
      "source": [
        "1. Напишите запрос, который посчитает количество вакансий в нашей базе (вакансии находятся в таблице vacancies). "
      ]
    },
    {
      "cell_type": "code",
      "execution_count": 24,
      "id": "bc39e68e-ed02-4ee2-9235-7258a2f867a8",
      "metadata": {
        "id": "bc39e68e-ed02-4ee2-9235-7258a2f867a8"
      },
      "outputs": [],
      "source": [
        "# текст запроса\n",
        "query_3_1 = f'''select count(v.id)\n",
        "                from public.vacancies v\n",
        "            '''"
      ]
    },
    {
      "cell_type": "code",
      "execution_count": 25,
      "id": "7mAwtsk4hEHY",
      "metadata": {
        "id": "7mAwtsk4hEHY"
      },
      "outputs": [
        {
          "name": "stdout",
          "output_type": "stream",
          "text": [
            "   count\n",
            "0  49197\n"
          ]
        },
        {
          "name": "stderr",
          "output_type": "stream",
          "text": [
            "/var/folders/9t/d4bq7zb146v439lxxk1zxns00000gq/T/ipykernel_36306/328751920.py:3: UserWarning: pandas only supports SQLAlchemy connectable (engine/connection) or database string URI or sqlite3 DBAPI2 connection. Other DBAPI2 objects are not tested. Please consider using SQLAlchemy.\n",
            "  vacancies_count = pd.read_sql_query(query_3_1, connection)\n"
          ]
        }
      ],
      "source": [
        "# результат запроса\n",
        "# используем метод read_sql_query, чтобы получить результаты запроса сразу в виде датафрейма\n",
        "vacancies_count = pd.read_sql_query(query_3_1, connection)\n",
        "\n",
        "print(vacancies_count)"
      ]
    },
    {
      "cell_type": "markdown",
      "id": "b583485d-1f9e-494e-ada4-80ffff7c53d6",
      "metadata": {
        "id": "b583485d-1f9e-494e-ada4-80ffff7c53d6"
      },
      "source": [
        "2. Напишите запрос, который посчитает количество работодателей (таблица employers). "
      ]
    },
    {
      "cell_type": "code",
      "execution_count": 26,
      "id": "5408c52c-3407-4a63-b25b-1aafa2322d28",
      "metadata": {
        "id": "5408c52c-3407-4a63-b25b-1aafa2322d28"
      },
      "outputs": [],
      "source": [
        "# текст запроса\n",
        "query_3_1 = f'''select count(e.id)\n",
        "                from public.EMPLOYERS e\n",
        "            '''"
      ]
    },
    {
      "cell_type": "code",
      "execution_count": 27,
      "id": "jVL4eshKhdqc",
      "metadata": {
        "id": "jVL4eshKhdqc"
      },
      "outputs": [
        {
          "name": "stdout",
          "output_type": "stream",
          "text": [
            "   count\n",
            "0  23501\n"
          ]
        },
        {
          "name": "stderr",
          "output_type": "stream",
          "text": [
            "/var/folders/9t/d4bq7zb146v439lxxk1zxns00000gq/T/ipykernel_36306/3139747732.py:3: UserWarning: pandas only supports SQLAlchemy connectable (engine/connection) or database string URI or sqlite3 DBAPI2 connection. Other DBAPI2 objects are not tested. Please consider using SQLAlchemy.\n",
            "  employers_count = pd.read_sql_query(query_3_1, connection)\n"
          ]
        }
      ],
      "source": [
        "# результат запроса\n",
        "# используем метод read_sql_query, чтобы получить результаты запроса сразу в виде датафрейма\n",
        "employers_count = pd.read_sql_query(query_3_1, connection)\n",
        "# не забываем закрыть соединение после окончания работы\n",
        "\n",
        "print(employers_count)"
      ]
    },
    {
      "cell_type": "markdown",
      "id": "a2bfff1f-c975-4bf6-84be-2185d79dcb76",
      "metadata": {
        "id": "a2bfff1f-c975-4bf6-84be-2185d79dcb76"
      },
      "source": [
        "3. Посчитате с помощью запроса количество регионов (таблица areas)."
      ]
    },
    {
      "cell_type": "code",
      "execution_count": 28,
      "id": "1m8QJwBYhey6",
      "metadata": {
        "id": "1m8QJwBYhey6"
      },
      "outputs": [],
      "source": [
        "# текст запроса\n",
        "query_3_1 = f'''select count(a.id)\n",
        "                from public.areas a\n",
        "            '''"
      ]
    },
    {
      "cell_type": "code",
      "execution_count": 29,
      "id": "EZsn9tlfhe7f",
      "metadata": {
        "id": "EZsn9tlfhe7f"
      },
      "outputs": [
        {
          "name": "stdout",
          "output_type": "stream",
          "text": [
            "   count\n",
            "0   1362\n"
          ]
        },
        {
          "name": "stderr",
          "output_type": "stream",
          "text": [
            "/var/folders/9t/d4bq7zb146v439lxxk1zxns00000gq/T/ipykernel_36306/3262544708.py:3: UserWarning: pandas only supports SQLAlchemy connectable (engine/connection) or database string URI or sqlite3 DBAPI2 connection. Other DBAPI2 objects are not tested. Please consider using SQLAlchemy.\n",
            "  areas_count = pd.read_sql_query(query_3_1, connection)\n"
          ]
        }
      ],
      "source": [
        "# результат запроса\n",
        "# используем метод read_sql_query, чтобы получить результаты запроса сразу в виде датафрейма\n",
        "areas_count = pd.read_sql_query(query_3_1, connection)\n",
        "\n",
        "print(areas_count)"
      ]
    },
    {
      "cell_type": "markdown",
      "id": "41bb59f3-53cc-4a67-a5bc-bedf573955e4",
      "metadata": {
        "id": "41bb59f3-53cc-4a67-a5bc-bedf573955e4"
      },
      "source": [
        "4. Посчитате с помощью запроса количество сфер деятельности в базе (таблица industries)."
      ]
    },
    {
      "cell_type": "code",
      "execution_count": 30,
      "id": "d286cf4c-707b-4cd2-9190-7ab3587d04a1",
      "metadata": {
        "id": "d286cf4c-707b-4cd2-9190-7ab3587d04a1"
      },
      "outputs": [],
      "source": [
        "# текст запроса\n",
        "query_3_1 = f'''select count(i.id)\n",
        "                from public.industries i\n",
        "            '''"
      ]
    },
    {
      "cell_type": "code",
      "execution_count": 31,
      "id": "JYAaoZ4qhfzW",
      "metadata": {
        "id": "JYAaoZ4qhfzW"
      },
      "outputs": [
        {
          "name": "stdout",
          "output_type": "stream",
          "text": [
            "   count\n",
            "0    294\n"
          ]
        },
        {
          "name": "stderr",
          "output_type": "stream",
          "text": [
            "/var/folders/9t/d4bq7zb146v439lxxk1zxns00000gq/T/ipykernel_36306/1372860772.py:3: UserWarning: pandas only supports SQLAlchemy connectable (engine/connection) or database string URI or sqlite3 DBAPI2 connection. Other DBAPI2 objects are not tested. Please consider using SQLAlchemy.\n",
            "  industries_count = pd.read_sql_query(query_3_1, connection)\n"
          ]
        }
      ],
      "source": [
        "# результат запроса\n",
        "# используем метод read_sql_query, чтобы получить результаты запроса сразу в виде датафрейма\n",
        "industries_count = pd.read_sql_query(query_3_1, connection)\n",
        "# не забываем закрыть соединение после окончания работы\n",
        "print(industries_count)\n",
        "\n",
        "# не забываем закрыть соединение после окончания работы\n",
        "connection.close()"
      ]
    },
    {
      "cell_type": "markdown",
      "id": "9a8a2181-6914-448b-85f1-38f5f18b8a93",
      "metadata": {
        "id": "9a8a2181-6914-448b-85f1-38f5f18b8a93"
      },
      "source": [
        "***"
      ]
    },
    {
      "cell_type": "code",
      "execution_count": null,
      "id": "be4e9bd3-a4db-4a20-82fb-6b02fc2957e0",
      "metadata": {
        "id": "be4e9bd3-a4db-4a20-82fb-6b02fc2957e0"
      },
      "outputs": [],
      "source": [
        "# выводы по предварительному анализу данных"
      ]
    },
    {
      "cell_type": "markdown",
      "id": "76c8fb9a",
      "metadata": {},
      "source": [
        "В среднем на одного работадателя приходится чуть больше 2 вакансий по количеству. Регионов представлено много (1362). Сфер деятельности 294."
      ]
    },
    {
      "cell_type": "markdown",
      "id": "8d62a9f3-f64e-4fe7-bdac-c4dffa16155e",
      "metadata": {
        "id": "8d62a9f3-f64e-4fe7-bdac-c4dffa16155e"
      },
      "source": [
        "# Юнит 4. Детальный анализ вакансий"
      ]
    },
    {
      "cell_type": "markdown",
      "id": "93053d3d-b284-481a-9cf7-012d7014c0e0",
      "metadata": {
        "id": "93053d3d-b284-481a-9cf7-012d7014c0e0"
      },
      "source": [
        "1. Напишите запрос, который позволит узнать, сколько (cnt) вакансий в каждом регионе (area).\n",
        "Отсортируйте по количеству вакансий в порядке убывания."
      ]
    },
    {
      "cell_type": "code",
      "execution_count": 12,
      "id": "3f069da6-fdc9-4ae7-b514-fafe2675efd3",
      "metadata": {
        "id": "3f069da6-fdc9-4ae7-b514-fafe2675efd3"
      },
      "outputs": [],
      "source": [
        "# текст запроса\n",
        "query_4_1 = f'''select a.name area, count(v.id) cnt\n",
        "                from public.vacancies v\n",
        "                    left join public.areas a on v.area_id = a.id\n",
        "                group by a.id\n",
        "                order by cnt desc\n",
        "            '''"
      ]
    },
    {
      "cell_type": "code",
      "execution_count": 13,
      "id": "P7QL86hrjhRJ",
      "metadata": {
        "id": "P7QL86hrjhRJ"
      },
      "outputs": [
        {
          "name": "stdout",
          "output_type": "stream",
          "text": [
            "                         area   cnt\n",
            "0                      Москва  5333\n",
            "1             Санкт-Петербург  2851\n",
            "2                       Минск  2112\n",
            "3                 Новосибирск  2006\n",
            "4                      Алматы  1892\n",
            "..                        ...   ...\n",
            "764                    Кизляр     1\n",
            "765                    Джизак     1\n",
            "766                    Эртиль     1\n",
            "767                  Арсеньев     1\n",
            "768  Тура (Красноярский край)     1\n",
            "\n",
            "[769 rows x 2 columns]\n"
          ]
        },
        {
          "name": "stderr",
          "output_type": "stream",
          "text": [
            "/var/folders/9t/d4bq7zb146v439lxxk1zxns00000gq/T/ipykernel_67786/2102520952.py:4: UserWarning: pandas only supports SQLAlchemy connectable (engine/connection) or database string URI or sqlite3 DBAPI2 connection. Other DBAPI2 objects are not tested. Please consider using SQLAlchemy.\n",
            "  vacancies_count_by_area = pd.read_sql_query(query_4_1, connection)\n"
          ]
        }
      ],
      "source": [
        "# результат запроса\n",
        "\n",
        "# используем метод read_sql_query, чтобы получить результаты запроса сразу в виде датафрейма\n",
        "vacancies_count_by_area = pd.read_sql_query(query_4_1, connection)\n",
        "# не забываем закрыть соединение после окончания работы\n",
        "print(vacancies_count_by_area)"
      ]
    },
    {
      "cell_type": "markdown",
      "id": "4266f0b6-1646-492a-88b4-2f6a46502135",
      "metadata": {
        "id": "4266f0b6-1646-492a-88b4-2f6a46502135"
      },
      "source": [
        "2. Напишите запрос, чтобы определить у какого количества вакансий заполнено хотя бы одно из двух полей с зарплатой."
      ]
    },
    {
      "cell_type": "code",
      "execution_count": 17,
      "id": "0c44b350-72eb-4d65-8b54-a1fc449ba9fd",
      "metadata": {
        "id": "0c44b350-72eb-4d65-8b54-a1fc449ba9fd"
      },
      "outputs": [],
      "source": [
        "# текст запроса\n",
        "query_4_2 = f'''SELECT count(v.id) cnt\n",
        "                FROM public.vacancies v\n",
        "                WHERE v.salary_from IS NOT NULL OR v.salary_to IS NOT NULL\n",
        "            '''"
      ]
    },
    {
      "cell_type": "code",
      "execution_count": 19,
      "id": "rhvwaMDkoWTi",
      "metadata": {
        "id": "rhvwaMDkoWTi"
      },
      "outputs": [
        {
          "name": "stdout",
          "output_type": "stream",
          "text": [
            "     cnt\n",
            "0  24073\n"
          ]
        },
        {
          "name": "stderr",
          "output_type": "stream",
          "text": [
            "/var/folders/9t/d4bq7zb146v439lxxk1zxns00000gq/T/ipykernel_67786/1872390566.py:3: UserWarning: pandas only supports SQLAlchemy connectable (engine/connection) or database string URI or sqlite3 DBAPI2 connection. Other DBAPI2 objects are not tested. Please consider using SQLAlchemy.\n",
            "  vacancies_count_salary_not_null = pd.read_sql_query(query_4_2, connection)\n"
          ]
        }
      ],
      "source": [
        "# результат запроса\n",
        "# используем метод read_sql_query, чтобы получить результаты запроса сразу в виде датафрейма\n",
        "vacancies_count_salary_not_null = pd.read_sql_query(query_4_2, connection)\n",
        "# не забываем закрыть соединение после окончания работы\n",
        "print(vacancies_count_salary_not_null)"
      ]
    },
    {
      "cell_type": "markdown",
      "id": "635c4d5d-f323-4c66-b428-50a088120aa0",
      "metadata": {
        "id": "635c4d5d-f323-4c66-b428-50a088120aa0"
      },
      "source": [
        "3. Найдите средние значения для нижней и верхней границы зарплатной вилки. Округлите значения до целого."
      ]
    },
    {
      "cell_type": "code",
      "execution_count": 22,
      "id": "603cdbe4-0ec3-4106-8eaf-c73fcdd29165",
      "metadata": {
        "id": "603cdbe4-0ec3-4106-8eaf-c73fcdd29165"
      },
      "outputs": [],
      "source": [
        "# текст запроса\n",
        "query_4_3 = f'''SELECT AVG(v.salary_from) avg_from, AVG(v.salary_to) avg_to\n",
        "                FROM public.vacancies v\n",
        "            '''"
      ]
    },
    {
      "cell_type": "code",
      "execution_count": 33,
      "id": "pswpAb66ovZZ",
      "metadata": {
        "id": "pswpAb66ovZZ"
      },
      "outputs": [
        {
          "name": "stdout",
          "output_type": "stream",
          "text": [
            "0    71065.0\n",
            "Name: avg_from, dtype: float64\n",
            "0    110537.0\n",
            "Name: avg_to, dtype: float64\n"
          ]
        },
        {
          "name": "stderr",
          "output_type": "stream",
          "text": [
            "/var/folders/9t/d4bq7zb146v439lxxk1zxns00000gq/T/ipykernel_67786/1760940859.py:2: UserWarning: pandas only supports SQLAlchemy connectable (engine/connection) or database string URI or sqlite3 DBAPI2 connection. Other DBAPI2 objects are not tested. Please consider using SQLAlchemy.\n",
            "  avg_salary_from_to = pd.read_sql_query(query_4_3, connection)\n"
          ]
        }
      ],
      "source": [
        "# используем метод read_sql_query, чтобы получить результаты запроса сразу в виде датафрейма\n",
        "avg_salary_from_to = pd.read_sql_query(query_4_3, connection)\n",
        "# не забываем закрыть соединение после окончания работы\n",
        "print(round(avg_salary_from_to['avg_from']))\n",
        "print(round(avg_salary_from_to['avg_to']))"
      ]
    },
    {
      "cell_type": "markdown",
      "id": "f3fdaec9-5fd3-4260-9cf5-1d7406b628a5",
      "metadata": {
        "id": "f3fdaec9-5fd3-4260-9cf5-1d7406b628a5"
      },
      "source": [
        "4. Напишите запрос, который выведет количество вакансий для каждого сочетания типа рабочего графика (schedule) и типа трудоустройства (employment), используемого в вакансиях. Результат отсортируйте по убыванию количества.\n"
      ]
    },
    {
      "cell_type": "code",
      "execution_count": 38,
      "id": "1ea710ec-871b-431e-9462-c7d0fd87011b",
      "metadata": {
        "id": "1ea710ec-871b-431e-9462-c7d0fd87011b"
      },
      "outputs": [],
      "source": [
        "# текст запроса\n",
        "query_4_4 = f'''SELECT v.schedule, v.employment, COUNT(v.id)\n",
        "                FROM public.vacancies v\n",
        "                GROUP BY v.schedule, v.employment\n",
        "                ORDER BY COUNT(v.id) desc\n",
        "            '''"
      ]
    },
    {
      "cell_type": "code",
      "execution_count": 39,
      "id": "lGUVqavdo4JQ",
      "metadata": {
        "id": "lGUVqavdo4JQ"
      },
      "outputs": [
        {
          "name": "stdout",
          "output_type": "stream",
          "text": [
            "            schedule           employment  count\n",
            "0        Полный день     Полная занятость  35367\n",
            "1   Удаленная работа     Полная занятость   7802\n",
            "2      Гибкий график     Полная занятость   1593\n",
            "3   Удаленная работа  Частичная занятость   1312\n",
            "4     Сменный график     Полная занятость    940\n",
            "5        Полный день           Стажировка    569\n",
            "6     Вахтовый метод     Полная занятость    367\n",
            "7        Полный день  Частичная занятость    347\n",
            "8      Гибкий график  Частичная занятость    312\n",
            "9        Полный день     Проектная работа    141\n",
            "10  Удаленная работа     Проектная работа    133\n",
            "11     Гибкий график           Стажировка    116\n",
            "12    Сменный график  Частичная занятость    101\n",
            "13  Удаленная работа           Стажировка     64\n",
            "14     Гибкий график     Проектная работа     18\n",
            "15    Сменный график           Стажировка     12\n",
            "16    Вахтовый метод     Проектная работа      2\n",
            "17    Сменный график     Проектная работа      1\n"
          ]
        },
        {
          "name": "stderr",
          "output_type": "stream",
          "text": [
            "/var/folders/9t/d4bq7zb146v439lxxk1zxns00000gq/T/ipykernel_67786/2396343030.py:2: UserWarning: pandas only supports SQLAlchemy connectable (engine/connection) or database string URI or sqlite3 DBAPI2 connection. Other DBAPI2 objects are not tested. Please consider using SQLAlchemy.\n",
            "  vacancies_by_work_schedule = pd.read_sql_query(query_4_4, connection)\n"
          ]
        }
      ],
      "source": [
        "# результат запроса\n",
        "vacancies_by_work_schedule = pd.read_sql_query(query_4_4, connection)\n",
        "print(vacancies_by_work_schedule)"
      ]
    },
    {
      "cell_type": "markdown",
      "id": "0136ffee-0ead-4a6b-b608-61d1c753a438",
      "metadata": {
        "id": "0136ffee-0ead-4a6b-b608-61d1c753a438"
      },
      "source": [
        "5. Напишите запрос, выводящий значения поля Требуемый опыт работы (experience) в порядке возрастания количества вакансий, в которых указан данный вариант опыта. "
      ]
    },
    {
      "cell_type": "code",
      "execution_count": 43,
      "id": "5b3a8e79-f7ab-4008-b767-12aea3a205ea",
      "metadata": {
        "id": "5b3a8e79-f7ab-4008-b767-12aea3a205ea"
      },
      "outputs": [],
      "source": [
        "# текст запроса\n",
        "query_4_5 = f'''SELECT v.experience, COUNT(v.id)\n",
        "                FROM public.vacancies v\n",
        "                GROUP BY v.experience\n",
        "                ORDER BY COUNT(v.id)\n",
        "            '''"
      ]
    },
    {
      "cell_type": "code",
      "execution_count": 44,
      "id": "3Is64Y-hpDpq",
      "metadata": {
        "id": "3Is64Y-hpDpq"
      },
      "outputs": [
        {
          "name": "stdout",
          "output_type": "stream",
          "text": [
            "           experience  count\n",
            "0         Более 6 лет   1337\n",
            "1           Нет опыта   7197\n",
            "2       От 3 до 6 лет  14511\n",
            "3  От 1 года до 3 лет  26152\n"
          ]
        },
        {
          "name": "stderr",
          "output_type": "stream",
          "text": [
            "/var/folders/9t/d4bq7zb146v439lxxk1zxns00000gq/T/ipykernel_67786/2840842267.py:2: UserWarning: pandas only supports SQLAlchemy connectable (engine/connection) or database string URI or sqlite3 DBAPI2 connection. Other DBAPI2 objects are not tested. Please consider using SQLAlchemy.\n",
            "  vacancies_by_experience = pd.read_sql_query(query_4_5, connection)\n"
          ]
        }
      ],
      "source": [
        "# результат запроса\n",
        "vacancies_by_experience = pd.read_sql_query(query_4_5, connection)\n",
        "print(vacancies_by_experience)"
      ]
    },
    {
      "cell_type": "markdown",
      "id": "oq2b7n1QpIka",
      "metadata": {
        "id": "oq2b7n1QpIka"
      },
      "source": [
        "***"
      ]
    },
    {
      "cell_type": "code",
      "execution_count": null,
      "id": "e91f87ed-e25c-4f96-9f92-b642e8c0b4fa",
      "metadata": {
        "id": "e91f87ed-e25c-4f96-9f92-b642e8c0b4fa"
      },
      "outputs": [],
      "source": [
        "# выводы по детальному анализу вакансий\n",
        "Все довольно предсказуемо. Наиболее востребованы сотрудники на полный рабочий день с полной занятостью. С опытом от 1 года до 3 лет. Средний уровень зарплаты находится в диапазоне от 71 до 110 тыс. руб. "
      ]
    },
    {
      "cell_type": "markdown",
      "id": "7ea20ab6-04a7-40a0-adec-443a0e5a42c3",
      "metadata": {
        "id": "7ea20ab6-04a7-40a0-adec-443a0e5a42c3"
      },
      "source": [
        "# Юнит 5. Анализ работодателей"
      ]
    },
    {
      "cell_type": "markdown",
      "id": "968aed80-74ef-4ffb-b5bf-c65b84e9caea",
      "metadata": {
        "id": "968aed80-74ef-4ffb-b5bf-c65b84e9caea"
      },
      "source": [
        "1. Напишите запрос, который позволит узнать, какие работодатели находятся на первом и пятом месте по количеству вакансий."
      ]
    },
    {
      "cell_type": "code",
      "execution_count": 49,
      "id": "f2d62796-d400-4ec1-a675-88112739a50e",
      "metadata": {
        "id": "f2d62796-d400-4ec1-a675-88112739a50e"
      },
      "outputs": [],
      "source": [
        "# текст запроса\n",
        "query_5_1 = f'''SELECT e.name, COUNT(v.id)\n",
        "                FROM public.vacancies v\n",
        "                LEFT JOIN public.employers e ON v.employer_id = e.id\n",
        "                GROUP BY e.id\n",
        "                ORDER BY COUNT(v.id) desc\n",
        "  \n",
        "            '''"
      ]
    },
    {
      "cell_type": "code",
      "execution_count": 50,
      "id": "64tOMkAxqkQk",
      "metadata": {
        "id": "64tOMkAxqkQk"
      },
      "outputs": [
        {
          "name": "stderr",
          "output_type": "stream",
          "text": [
            "/var/folders/9t/d4bq7zb146v439lxxk1zxns00000gq/T/ipykernel_67786/383789935.py:2: UserWarning: pandas only supports SQLAlchemy connectable (engine/connection) or database string URI or sqlite3 DBAPI2 connection. Other DBAPI2 objects are not tested. Please consider using SQLAlchemy.\n",
            "  employers_rating = pd.read_sql_query(query_5_1, connection)\n"
          ]
        },
        {
          "name": "stdout",
          "output_type": "stream",
          "text": [
            "                              name  count\n",
            "0                           Яндекс   1933\n",
            "1                       Ростелеком    491\n",
            "2                         Тинькофф    444\n",
            "3                             СБЕР    428\n",
            "4                    Газпром нефть    331\n",
            "...                            ...    ...\n",
            "14901   Евсеев Сергей Владимирович      1\n",
            "14902          Кадровые технологии      1\n",
            "14903                   ЛОМБАРД 24      1\n",
            "14904            Авто-Компонент ТД      1\n",
            "14905  НПП «Старт» им. А.И. Яскина      1\n",
            "\n",
            "[14906 rows x 2 columns]\n"
          ]
        }
      ],
      "source": [
        "# результат запроса\n",
        "employers_rating = pd.read_sql_query(query_5_1, connection)\n",
        "print(employers_rating)"
      ]
    },
    {
      "cell_type": "markdown",
      "id": "68377cfc-b378-43dc-ab7d-1195abf2c515",
      "metadata": {
        "id": "68377cfc-b378-43dc-ab7d-1195abf2c515"
      },
      "source": [
        "2. Напишите запрос, который для каждого региона выведет количество работодателей и вакансий в нём.\n",
        "Среди регионов, в которых нет вакансий, найдите тот, в котором наибольшее количество работодателей.\n"
      ]
    },
    {
      "cell_type": "code",
      "execution_count": 83,
      "id": "dd7df27a-e3e8-412e-a21a-5d389b71e891",
      "metadata": {
        "id": "dd7df27a-e3e8-412e-a21a-5d389b71e891"
      },
      "outputs": [],
      "source": [
        "# текст запроса\n",
        "query_5_2 = f'''SELECT a.name area_name, COUNT(e.id) employers_count, COUNT(v.id) vacancies_count\n",
        "                FROM public.areas a\n",
        "                LEFT JOIN public.vacancies v ON v.area_id = a.id\n",
        "                LEFT JOIN public.employers e ON e.area = a.id\n",
        "                GROUP BY a.id\n",
        "                ORDER BY COUNT(v.id) ASC, COUNT(e.id) DESC\n",
        "  \n",
        "            '''\n"
      ]
    },
    {
      "cell_type": "code",
      "execution_count": 84,
      "id": "x1ikWbydrbf6",
      "metadata": {
        "id": "x1ikWbydrbf6"
      },
      "outputs": [
        {
          "name": "stderr",
          "output_type": "stream",
          "text": [
            "/var/folders/9t/d4bq7zb146v439lxxk1zxns00000gq/T/ipykernel_67786/2620487617.py:2: UserWarning: pandas only supports SQLAlchemy connectable (engine/connection) or database string URI or sqlite3 DBAPI2 connection. Other DBAPI2 objects are not tested. Please consider using SQLAlchemy.\n",
            "  areas_info = pd.read_sql_query(query_5_2, connection)\n"
          ]
        },
        {
          "name": "stdout",
          "output_type": "stream",
          "text": [
            "               area_name  employers_count  vacancies_count\n",
            "0                 Россия              410                0\n",
            "1              Казахстан              207                0\n",
            "2     Московская область               75                0\n",
            "3     Краснодарский край               19                0\n",
            "4               Беларусь               18                0\n",
            "...                  ...              ...              ...\n",
            "1357         Новосибирск          1149438          1149438\n",
            "1358              Алматы          1364132          1364132\n",
            "1359               Минск          2354880          2354880\n",
            "1360     Санкт-Петербург          6320667          6320667\n",
            "1361              Москва         31272712         31272712\n",
            "\n",
            "[1362 rows x 3 columns]\n"
          ]
        }
      ],
      "source": [
        "# результат запроса\n",
        "areas_info = pd.read_sql_query(query_5_2, connection)\n",
        "print(areas_info)"
      ]
    },
    {
      "cell_type": "markdown",
      "id": "f2fe0acb-ab1a-4e15-9326-2560e22d73c1",
      "metadata": {
        "id": "f2fe0acb-ab1a-4e15-9326-2560e22d73c1"
      },
      "source": [
        "3. Для каждого работодателя посчитайте количество регионов, в которых он публикует свои вакансии. Отсортируйте результат по убыванию количества.\n"
      ]
    },
    {
      "cell_type": "code",
      "execution_count": 86,
      "id": "6271f8ad-bd2e-4196-ae4a-5b39c4c1010e",
      "metadata": {
        "id": "6271f8ad-bd2e-4196-ae4a-5b39c4c1010e"
      },
      "outputs": [],
      "source": [
        "\t\n",
        "query_5_3 = f'''SELECT e.name, count(distinct v.area_id) areas_count\n",
        "            FROM public.employers e \n",
        "                JOIN public.vacancies v ON e.id = v.employer_id\n",
        "            GROUP BY e.id\n",
        "            ORDER BY count(distinct v.area_id) DESC\n",
        "            '''"
      ]
    },
    {
      "cell_type": "code",
      "execution_count": 87,
      "id": "1EIvX3HasH4F",
      "metadata": {
        "id": "1EIvX3HasH4F"
      },
      "outputs": [
        {
          "name": "stderr",
          "output_type": "stream",
          "text": [
            "/var/folders/9t/d4bq7zb146v439lxxk1zxns00000gq/T/ipykernel_67786/521403104.py:2: UserWarning: pandas only supports SQLAlchemy connectable (engine/connection) or database string URI or sqlite3 DBAPI2 connection. Other DBAPI2 objects are not tested. Please consider using SQLAlchemy.\n",
            "  employer_areas = pd.read_sql_query(query_5_3, connection)\n"
          ]
        },
        {
          "name": "stdout",
          "output_type": "stream",
          "text": [
            "                                         name  areas_count\n",
            "0                                      Яндекс          181\n",
            "1                                  Ростелеком          152\n",
            "2                                  Спецремонт          116\n",
            "3                      Поляков Денис Иванович           88\n",
            "4                                   ООО ЕФИН            71\n",
            "...                                       ...          ...\n",
            "14901                            НПП Авиатрон            1\n",
            "14902              Центр дистанционных торгов            1\n",
            "14903  Городские Телекоммуникационные Системы            1\n",
            "14904                       Введенский, Отель            1\n",
            "14905              Группа Компаний Автоимпорт            1\n",
            "\n",
            "[14906 rows x 2 columns]\n"
          ]
        }
      ],
      "source": [
        "# результат запроса\n",
        "employer_areas = pd.read_sql_query(query_5_3, connection)\n",
        "print(employer_areas)"
      ]
    },
    {
      "cell_type": "markdown",
      "id": "eab2206d-d95b-468b-8e5f-34381abf0ce7",
      "metadata": {
        "id": "eab2206d-d95b-468b-8e5f-34381abf0ce7"
      },
      "source": [
        "4. Напишите запрос для подсчёта количества работодателей, у которых не указана сфера деятельности. "
      ]
    },
    {
      "cell_type": "code",
      "execution_count": 91,
      "id": "80defb23-bfb1-4a18-8be6-bf36aa7165d5",
      "metadata": {
        "id": "80defb23-bfb1-4a18-8be6-bf36aa7165d5"
      },
      "outputs": [],
      "source": [
        "# текст запроса\n",
        "query_5_4 = f'''SELECT COUNT(*) employers_without_industries\n",
        "            FROM public.employers e \n",
        "                LEFT JOIN public.employers_industries ei ON ei.employer_id = e.id\n",
        "            WHERE ei.industry_id IS NULL\n",
        "        ''' "
      ]
    },
    {
      "cell_type": "code",
      "execution_count": 92,
      "id": "Dp_yCx6ysQSu",
      "metadata": {
        "id": "Dp_yCx6ysQSu"
      },
      "outputs": [
        {
          "name": "stdout",
          "output_type": "stream",
          "text": [
            "employers_without_industries    8419\n",
            "Name: 0, dtype: int64\n"
          ]
        },
        {
          "name": "stderr",
          "output_type": "stream",
          "text": [
            "/var/folders/9t/d4bq7zb146v439lxxk1zxns00000gq/T/ipykernel_67786/3270021487.py:2: UserWarning: pandas only supports SQLAlchemy connectable (engine/connection) or database string URI or sqlite3 DBAPI2 connection. Other DBAPI2 objects are not tested. Please consider using SQLAlchemy.\n",
            "  employers_without_industries = pd.read_sql_query(query_5_4, connection)\n"
          ]
        }
      ],
      "source": [
        "# результат запроса\n",
        "employers_without_industries = pd.read_sql_query(query_5_4, connection)\n",
        "print(employers_without_industries.iloc[0])"
      ]
    },
    {
      "cell_type": "markdown",
      "id": "0112af31-f6b0-4e3b-82ab-71296e752e5e",
      "metadata": {
        "id": "0112af31-f6b0-4e3b-82ab-71296e752e5e"
      },
      "source": [
        "5. Напишите запрос, чтобы узнать название компании, находящейся на третьем месте в алфавитном списке (по названию) компаний, у которых указано четыре сферы деятельности. "
      ]
    },
    {
      "cell_type": "code",
      "execution_count": 113,
      "id": "973b0cfc-a972-470a-8b4a-68744ef220c4",
      "metadata": {
        "id": "973b0cfc-a972-470a-8b4a-68744ef220c4"
      },
      "outputs": [],
      "source": [
        "# текст запроса\n",
        "query_5_5 = f'''SELECT e.name employer_name\n",
        "            FROM public.employers_industries ei\n",
        "                JOIN public.employers e ON ei.employer_id = e.id\n",
        "            GROUP BY e.id\n",
        "            HAVING COUNT(distinct ei.industry_id) = 4\n",
        "            ORDER BY e.name\n",
        "            OFFSET 2 LIMIT 1\n",
        "        ''' "
      ]
    },
    {
      "cell_type": "code",
      "execution_count": 114,
      "id": "xsPtpp8EsaED",
      "metadata": {
        "id": "xsPtpp8EsaED"
      },
      "outputs": [
        {
          "name": "stdout",
          "output_type": "stream",
          "text": [
            "  employer_name\n",
            "0          2ГИС\n"
          ]
        },
        {
          "name": "stderr",
          "output_type": "stream",
          "text": [
            "/var/folders/9t/d4bq7zb146v439lxxk1zxns00000gq/T/ipykernel_67786/945696271.py:2: UserWarning: pandas only supports SQLAlchemy connectable (engine/connection) or database string URI or sqlite3 DBAPI2 connection. Other DBAPI2 objects are not tested. Please consider using SQLAlchemy.\n",
            "  employer = pd.read_sql_query(query_5_5, connection)\n"
          ]
        }
      ],
      "source": [
        "# результат запроса\n",
        "employer = pd.read_sql_query(query_5_5, connection)\n",
        "print(employer)"
      ]
    },
    {
      "cell_type": "markdown",
      "id": "3bfcfdaf-755d-4d2b-8ed8-326201dc07ab",
      "metadata": {
        "id": "3bfcfdaf-755d-4d2b-8ed8-326201dc07ab"
      },
      "source": [
        "6. С помощью запроса выясните, у какого количества работодателей в качестве сферы деятельности указана Разработка программного обеспечения.\n"
      ]
    },
    {
      "cell_type": "code",
      "execution_count": 115,
      "id": "ad3f270f-2991-47eb-929b-e8f88a55b0d1",
      "metadata": {
        "id": "ad3f270f-2991-47eb-929b-e8f88a55b0d1"
      },
      "outputs": [],
      "source": [
        "# текст запроса\n",
        "query_5_6 = f'''SELECT COUNT(distinct ei.employer_id)\n",
        "            FROM public.employers_industries ei\n",
        "                JOIN public.industries i ON ei.industry_id = i.id\n",
        "            WHERE i.name = 'Разработка программного обеспечения'\n",
        "            ''' "
      ]
    },
    {
      "cell_type": "code",
      "execution_count": 116,
      "id": "H72qxWM0shPR",
      "metadata": {
        "id": "H72qxWM0shPR"
      },
      "outputs": [
        {
          "name": "stdout",
          "output_type": "stream",
          "text": [
            "   count\n",
            "0   3553\n"
          ]
        },
        {
          "name": "stderr",
          "output_type": "stream",
          "text": [
            "/var/folders/9t/d4bq7zb146v439lxxk1zxns00000gq/T/ipykernel_67786/4112955255.py:2: UserWarning: pandas only supports SQLAlchemy connectable (engine/connection) or database string URI or sqlite3 DBAPI2 connection. Other DBAPI2 objects are not tested. Please consider using SQLAlchemy.\n",
            "  sodtware_development_employers = pd.read_sql_query(query_5_6, connection)\n"
          ]
        }
      ],
      "source": [
        "# результат запроса\n",
        "sodtware_development_employers = pd.read_sql_query(query_5_6, connection)\n",
        "print(sodtware_development_employers)"
      ]
    },
    {
      "cell_type": "markdown",
      "id": "7b02bb86-0546-40fb-94a4-242f050a5c57",
      "metadata": {
        "id": "7b02bb86-0546-40fb-94a4-242f050a5c57"
      },
      "source": [
        "7. Для компании «Яндекс» выведите список регионов-миллионников, в которых представлены вакансии компании, вместе с количеством вакансий в этих регионах. Также добавьте строку Total с общим количеством вакансий компании. Результат отсортируйте по возрастанию количества.\n",
        "\n",
        "Список городов-милионников надо взять [отсюда](https://ru.wikipedia.org/wiki/%D0%93%D0%BE%D1%80%D0%BE%D0%B4%D0%B0-%D0%BC%D0%B8%D0%BB%D0%BB%D0%B8%D0%BE%D0%BD%D0%B5%D1%80%D1%8B_%D0%A0%D0%BE%D1%81%D1%81%D0%B8%D0%B8). \n",
        "\n",
        "Если возникнут трудности с этим задание посмотрите материалы модуля  PYTHON-17. Как получать данные из веб-источников и API. "
      ]
    },
    {
      "cell_type": "code",
      "execution_count": 119,
      "id": "ZdfrL6gIs1Pn",
      "metadata": {
        "id": "ZdfrL6gIs1Pn"
      },
      "outputs": [],
      "source": [
        "# код для получения списка городов-милионников\n",
        "million_city = (\n",
        "    \"Москва\", \"Санкт-Петербург\", \"Новосибирск\", \n",
        "    \"Екатеринбург\", \"Казань\", \"Нижний Новгород\", \n",
        "    \"Красноярск\", \"Челябинск\", \"Самара\", \"Уфа\", \n",
        "    \"Ростов-на-Дону\", \"Омск\", \"Краснодар\", \n",
        "    \"Воронеж\", \"Пермь\", \"Волгоград\"\n",
        ")"
      ]
    },
    {
      "cell_type": "code",
      "execution_count": 126,
      "id": "5a0e32a4-e68a-4365-8a39-2fe24c542c36",
      "metadata": {
        "id": "5a0e32a4-e68a-4365-8a39-2fe24c542c36"
      },
      "outputs": [],
      "source": [
        "# текст запроса\n",
        "# выводим информацию по городам-миллионникам и объединяем её с доп. строкой с общим количеством вакансий\n",
        "query_5_7 = f'''(SELECT \n",
        "                a.name area_name,\n",
        "                COUNT(v.id) vacancies_count\n",
        "            FROM public.vacancies v\n",
        "                JOIN public.employers e ON e.id = v.employer_id\n",
        "                JOIN public.areas a ON a.id = v.area_id\n",
        "            WHERE e.name = 'Яндекс' and a.name in {million_city}\n",
        "            GROUP BY a.id\n",
        "            ORDER BY COUNT(v.id) ASC)\n",
        "            \n",
        "            UNION ALL \n",
        "\n",
        "            (SELECT \n",
        "                'Total',\n",
        "                COUNT (*) total_vacancies_count\n",
        "            FROM public.vacancies v\n",
        "                JOIN public.employers e ON e.id = v.employer_id\n",
        "                JOIN public.areas a ON a.id = v.area_id\n",
        "            WHERE e.name = 'Яндекс' and a.name in {million_city}) \n",
        "            \n",
        "            ORDER BY vacancies_count           \n",
        "           \n",
        "        ''' "
      ]
    },
    {
      "cell_type": "code",
      "execution_count": 127,
      "id": "ttPhiO1rsvPq",
      "metadata": {
        "id": "ttPhiO1rsvPq"
      },
      "outputs": [
        {
          "name": "stdout",
          "output_type": "stream",
          "text": [
            "          area_name  vacancies_count\n",
            "0              Омск               21\n",
            "1         Челябинск               22\n",
            "2        Красноярск               23\n",
            "3         Волгоград               24\n",
            "4             Пермь               25\n",
            "5    Ростов-на-Дону               25\n",
            "6            Казань               25\n",
            "7            Самара               26\n",
            "8               Уфа               26\n",
            "9         Краснодар               30\n",
            "10          Воронеж               32\n",
            "11      Новосибирск               35\n",
            "12  Нижний Новгород               36\n",
            "13     Екатеринбург               39\n",
            "14  Санкт-Петербург               42\n",
            "15           Москва               54\n",
            "16            TOTAL              485\n"
          ]
        },
        {
          "name": "stderr",
          "output_type": "stream",
          "text": [
            "/var/folders/9t/d4bq7zb146v439lxxk1zxns00000gq/T/ipykernel_67786/3926702749.py:2: UserWarning: pandas only supports SQLAlchemy connectable (engine/connection) or database string URI or sqlite3 DBAPI2 connection. Other DBAPI2 objects are not tested. Please consider using SQLAlchemy.\n",
            "  m_cities_stats = pd.read_sql_query(query_5_7, connection)\n"
          ]
        }
      ],
      "source": [
        "# результат запроса\n",
        "m_cities_stats = pd.read_sql_query(query_5_7, connection)\n",
        "print(m_cities_stats)"
      ]
    },
    {
      "cell_type": "markdown",
      "id": "04966e40-3bc3-4dc8-9ba2-e80580ce3abc",
      "metadata": {
        "id": "04966e40-3bc3-4dc8-9ba2-e80580ce3abc"
      },
      "source": [
        "***"
      ]
    },
    {
      "cell_type": "code",
      "execution_count": 128,
      "id": "aGGyER-yt4SR",
      "metadata": {
        "id": "aGGyER-yt4SR"
      },
      "outputs": [],
      "source": [
        "# выводы по анализу работодателей\n",
        "\n",
        "# Мы посчитали, сколько вакансий открыто у различных работодателей,\n",
        "# для каждого региона вывели количество работодателей и вакансий в нем,\n",
        "# для каждого работодателя посчитали количество регионов, в которых у него есть вакансии,\n",
        "# определили количество работодателей, у которых сфера деятельности не указана, \n",
        "# а также нашли работодателей с определенным количеством/названиями сфер деятельности,\n",
        "# вывели распределение количества вакансий конкретного работодателя по городам-миллионникам."
      ]
    },
    {
      "cell_type": "markdown",
      "id": "b1ef156a-efcb-49ce-bb23-90763e7f35b2",
      "metadata": {
        "id": "b1ef156a-efcb-49ce-bb23-90763e7f35b2",
        "tags": []
      },
      "source": [
        "# Юнит 6. Предметный анализ"
      ]
    },
    {
      "cell_type": "markdown",
      "id": "b9cd50a0-992d-4988-8463-2b2b1c4629b4",
      "metadata": {
        "id": "b9cd50a0-992d-4988-8463-2b2b1c4629b4"
      },
      "source": [
        "1. Сколько вакансий имеет отношение к данным?\n",
        "\n",
        "Считаем, что вакансия имеет отношение к данным, если в её названии содержатся слова 'data' или 'данн'.\n",
        "\n",
        "*Подсказка: Обратите внимание, что названия вакансий могут быть написаны в любом регистре.* \n"
      ]
    },
    {
      "cell_type": "code",
      "execution_count": 129,
      "id": "54ab0e50-c0f1-47cc-a54b-bc5c8bc363f9",
      "metadata": {
        "id": "54ab0e50-c0f1-47cc-a54b-bc5c8bc363f9"
      },
      "outputs": [],
      "source": [
        "# текст запроса\n",
        "query_6_1 = f'''SELECT COUNT(id)\n",
        "            FROM public.vacancies\n",
        "            WHERE    \n",
        "                lower(name) like '%data%'\n",
        "                OR lower(name) like '%данн%'\n",
        "            ''' "
      ]
    },
    {
      "cell_type": "code",
      "execution_count": 130,
      "id": "9F1meAqsuUjd",
      "metadata": {
        "id": "9F1meAqsuUjd"
      },
      "outputs": [
        {
          "name": "stdout",
          "output_type": "stream",
          "text": [
            "   count\n",
            "0   1771\n"
          ]
        },
        {
          "name": "stderr",
          "output_type": "stream",
          "text": [
            "/var/folders/9t/d4bq7zb146v439lxxk1zxns00000gq/T/ipykernel_67786/1309227290.py:2: UserWarning: pandas only supports SQLAlchemy connectable (engine/connection) or database string URI or sqlite3 DBAPI2 connection. Other DBAPI2 objects are not tested. Please consider using SQLAlchemy.\n",
            "  df = pd.read_sql_query(query_6_1, connection)\n"
          ]
        }
      ],
      "source": [
        "# результат запроса\n",
        "df = pd.read_sql_query(query_6_1, connection)\n",
        "print(df)"
      ]
    },
    {
      "cell_type": "markdown",
      "id": "4dea20cb-a36b-474a-a0b9-e08e8e3857a5",
      "metadata": {
        "id": "4dea20cb-a36b-474a-a0b9-e08e8e3857a5"
      },
      "source": [
        "2. Сколько есть подходящих вакансий для начинающего дата-сайентиста? \n",
        "Будем считать вакансиями для дата-сайентистов такие, в названии которых есть хотя бы одно из следующих сочетаний:\n",
        "* 'data scientist'\n",
        "* 'data science'\n",
        "* 'исследователь данных'\n",
        "* 'ML' (здесь не нужно брать вакансии по HTML)\n",
        "* 'machine learning'\n",
        "* 'машинн%обучен%'\n",
        "\n",
        "** В следующих заданиях мы продолжим работать с вакансиями по этому условию.*\n",
        "\n",
        "Считаем вакансиями для специалистов уровня Junior следующие:\n",
        "* в названии есть слово 'junior' *или*\n",
        "* требуемый опыт — Нет опыта *или*\n",
        "* тип трудоустройства — Стажировка.\n",
        " "
      ]
    },
    {
      "cell_type": "code",
      "execution_count": 141,
      "id": "9c61b3c0-bb66-46c9-ae1e-81d3f5752b4a",
      "metadata": {
        "id": "9c61b3c0-bb66-46c9-ae1e-81d3f5752b4a"
      },
      "outputs": [],
      "source": [
        "# текст запроса\n",
        "query_6_2 = f'''SELECT COUNT(id)\n",
        "                FROM public.vacancies\n",
        "                WHERE (lower(name) like '%data scientist%'\n",
        "                OR lower(name) like '%data science%'\n",
        "                OR lower(name) like '%исследователь данных%'\n",
        "                OR (name like '%ML%' AND lower(name) not like '%html%')\n",
        "                OR lower(name) like '%machine learning%' \n",
        "                OR lower(name) like '%машинн%обучен%')\n",
        "                \n",
        "                AND (lower(name) like '%junior%'\n",
        "                   OR experience = 'Нет опыта'\n",
        "                   OR employment = 'Стажировка')\n",
        "            '''"
      ]
    },
    {
      "cell_type": "code",
      "execution_count": 142,
      "id": "ZNM-LLYuu1dj",
      "metadata": {
        "id": "ZNM-LLYuu1dj"
      },
      "outputs": [
        {
          "name": "stdout",
          "output_type": "stream",
          "text": [
            "   count\n",
            "0     51\n"
          ]
        },
        {
          "name": "stderr",
          "output_type": "stream",
          "text": [
            "/var/folders/9t/d4bq7zb146v439lxxk1zxns00000gq/T/ipykernel_67786/2386638782.py:2: UserWarning: pandas only supports SQLAlchemy connectable (engine/connection) or database string URI or sqlite3 DBAPI2 connection. Other DBAPI2 objects are not tested. Please consider using SQLAlchemy.\n",
            "  df = pd.read_sql_query(query_6_2, connection)\n"
          ]
        }
      ],
      "source": [
        "# результат запроса\n",
        "df = pd.read_sql_query(query_6_2, connection)\n",
        "print(df)"
      ]
    },
    {
      "cell_type": "markdown",
      "id": "eedceb80-c5ca-480e-b27a-278dfb8b4438",
      "metadata": {
        "id": "eedceb80-c5ca-480e-b27a-278dfb8b4438"
      },
      "source": [
        "3. Сколько есть вакансий для DS, в которых в качестве ключевого навыка указан SQL или postgres?\n",
        "\n",
        "** Критерии для отнесения вакансии к DS указаны в предыдущем задании.*"
      ]
    },
    {
      "cell_type": "code",
      "execution_count": 144,
      "id": "69621713-0cc5-4f1b-a1d7-bb144fa6148c",
      "metadata": {
        "id": "69621713-0cc5-4f1b-a1d7-bb144fa6148c"
      },
      "outputs": [],
      "source": [
        "# текст запроса\n",
        "query_6_3 = f'''SELECT COUNT(id)\n",
        "                FROM public.vacancies\n",
        "                WHERE (lower(name) like '%data scientist%'\n",
        "                    OR lower(name) like '%data science%'\n",
        "                    OR lower(name) like '%исследователь данных%'\n",
        "                    OR (name like '%ML%' AND lower(name) not like '%html%')\n",
        "                    OR lower(name) like '%machine learning%' \n",
        "                    OR lower(name) like '%машинн%обучен%')\n",
        "                    AND (lower(key_skills) like '%sql%' \n",
        "                        OR lower(key_skills) like '%postgres%')\n",
        "            '''"
      ]
    },
    {
      "cell_type": "code",
      "execution_count": 145,
      "id": "alA8WEAAvGdf",
      "metadata": {
        "id": "alA8WEAAvGdf"
      },
      "outputs": [
        {
          "name": "stdout",
          "output_type": "stream",
          "text": [
            "   count\n",
            "0    201\n"
          ]
        },
        {
          "name": "stderr",
          "output_type": "stream",
          "text": [
            "/var/folders/9t/d4bq7zb146v439lxxk1zxns00000gq/T/ipykernel_67786/1689521060.py:2: UserWarning: pandas only supports SQLAlchemy connectable (engine/connection) or database string URI or sqlite3 DBAPI2 connection. Other DBAPI2 objects are not tested. Please consider using SQLAlchemy.\n",
            "  df = pd.read_sql_query(query_6_3, connection)\n"
          ]
        }
      ],
      "source": [
        "# результат запроса\n",
        "df = pd.read_sql_query(query_6_3, connection)\n",
        "print(df)"
      ]
    },
    {
      "cell_type": "markdown",
      "id": "1be1e9c6-37cf-4a5f-bfeb-04cab799dc80",
      "metadata": {
        "id": "1be1e9c6-37cf-4a5f-bfeb-04cab799dc80"
      },
      "source": [
        "4. Проверьте, насколько популярен Python в требованиях работодателей к DS.Для этого вычислите количество вакансий, в которых в качестве ключевого навыка указан Python.\n",
        "\n",
        "** Это можно сделать помощью запроса, аналогичного предыдущему.*"
      ]
    },
    {
      "cell_type": "code",
      "execution_count": 148,
      "id": "0036a355-9ccf-4564-8b01-73d8194297e7",
      "metadata": {
        "id": "0036a355-9ccf-4564-8b01-73d8194297e7"
      },
      "outputs": [],
      "source": [
        "# текст запроса\n",
        "\n",
        "query_6_4 = f'''SELECT COUNT(id)\n",
        "                FROM public.vacancies\n",
        "                WHERE (lower(name) like '%data scientist%'\n",
        "                    OR lower(name) like '%data science%'\n",
        "                    OR lower(name) like '%исследователь данных%'\n",
        "                    OR (name like '%ML%' AND lower(name) not like '%html%')\n",
        "                    OR lower(name) like '%machine learning%' \n",
        "                    OR lower(name) like '%машинн%обучен%')\n",
        "                    AND (key_skills like '%Python%')\n",
        "            '''"
      ]
    },
    {
      "cell_type": "code",
      "execution_count": 149,
      "id": "1i-5WyucvQ6v",
      "metadata": {
        "id": "1i-5WyucvQ6v"
      },
      "outputs": [
        {
          "name": "stdout",
          "output_type": "stream",
          "text": [
            "   count\n",
            "0    351\n"
          ]
        },
        {
          "name": "stderr",
          "output_type": "stream",
          "text": [
            "/var/folders/9t/d4bq7zb146v439lxxk1zxns00000gq/T/ipykernel_67786/1255022825.py:2: UserWarning: pandas only supports SQLAlchemy connectable (engine/connection) or database string URI or sqlite3 DBAPI2 connection. Other DBAPI2 objects are not tested. Please consider using SQLAlchemy.\n",
            "  df = pd.read_sql_query(query_6_4, connection)\n"
          ]
        }
      ],
      "source": [
        "# результат запроса\n",
        "df = pd.read_sql_query(query_6_4, connection)\n",
        "print(df)"
      ]
    },
    {
      "cell_type": "markdown",
      "id": "ec3c8db7-fa21-4a41-a994-1af63742a642",
      "metadata": {
        "id": "ec3c8db7-fa21-4a41-a994-1af63742a642"
      },
      "source": [
        "5. Сколько ключевых навыков в среднем указывают в вакансиях для DS?\n",
        "Ответ округлите до двух знаков после точки-разделителя."
      ]
    },
    {
      "cell_type": "code",
      "execution_count": 161,
      "id": "949132bc-d5b6-4611-8218-0b9a504d74f4",
      "metadata": {
        "id": "949132bc-d5b6-4611-8218-0b9a504d74f4"
      },
      "outputs": [],
      "source": [
        "# текст запроса\n",
        "query_6_5 = f'''SELECT \n",
        "                    ROUND(AVG(\n",
        "                        length(key_skills) + 1 - length(REPLACE(key_skills, CHR(9), ''))\n",
        "                    ), 2) \n",
        "                FROM public.vacancies \n",
        "                WHERE ((lower(name) like '%data scientist%'\n",
        "                    OR lower(name) like '%data science%'\n",
        "                    OR lower(name) like '%исследователь данных%'\n",
        "                    OR (name like '%ML%' AND lower(name) not like '%html%')\n",
        "                    OR lower(name) like '%machine learning%' \n",
        "                    OR lower(name) like '%машинн%обучен%'))\n",
        "                    AND (key_skills IS NOT NULL)\n",
        "            '''"
      ]
    },
    {
      "cell_type": "code",
      "execution_count": 162,
      "id": "a3V24Tvmviqk",
      "metadata": {
        "id": "a3V24Tvmviqk"
      },
      "outputs": [
        {
          "name": "stderr",
          "output_type": "stream",
          "text": [
            "/var/folders/9t/d4bq7zb146v439lxxk1zxns00000gq/T/ipykernel_67786/4051561159.py:2: UserWarning: pandas only supports SQLAlchemy connectable (engine/connection) or database string URI or sqlite3 DBAPI2 connection. Other DBAPI2 objects are not tested. Please consider using SQLAlchemy.\n",
            "  df = pd.read_sql_query(query_6_5, connection)\n"
          ]
        },
        {
          "name": "stdout",
          "output_type": "stream",
          "text": [
            "   round\n",
            "0   6.41\n"
          ]
        }
      ],
      "source": [
        "# результат запроса\n",
        "df = pd.read_sql_query(query_6_5, connection)\n",
        "print(df)"
      ]
    },
    {
      "cell_type": "markdown",
      "id": "1041c17a-ca8f-4543-a0ca-32778914fb00",
      "metadata": {
        "id": "1041c17a-ca8f-4543-a0ca-32778914fb00"
      },
      "source": [
        "6. Напишите запрос, позволяющий вычислить, какую зарплату для DS в **среднем** указывают для каждого типа требуемого опыта (уникальное значение из поля *experience*). \n",
        "\n",
        "При решении задачи примите во внимание следующее:\n",
        "1. Рассматриваем только вакансии, у которых заполнено хотя бы одно из двух полей с зарплатой.\n",
        "2. Если заполнены оба поля с зарплатой, то считаем зарплату по каждой вакансии как сумму двух полей, делённую на 2. Если заполнено только одно из полей, то его и считаем зарплатой по вакансии.\n",
        "3. Если в расчётах участвует null, в результате он тоже даст null (посмотрите, что возвращает запрос select 1 + null). Чтобы избежать этой ситуацию, мы воспользуемся функцией [coalesce](https://postgrespro.ru/docs/postgresql/9.5/functions-conditional#functions-coalesce-nvl-ifnull), которая заменит null на значение, которое мы передадим. Например, посмотрите, что возвращает запрос `select 1 + coalesce(null, 0)`\n",
        "\n",
        "Выясните, на какую зарплату в среднем может рассчитывать дата-сайентист с опытом работы от 3 до 6 лет. Результат округлите до целого числа. "
      ]
    },
    {
      "cell_type": "code",
      "execution_count": 163,
      "id": "6a743d39-5204-48d3-8271-b9f88e68d40e",
      "metadata": {
        "id": "6a743d39-5204-48d3-8271-b9f88e68d40e"
      },
      "outputs": [],
      "source": [
        "# текст запроса\n",
        "query_6_6 = f'''SELECT \n",
        "                    experience, \n",
        "                    ROUND(AVG(\n",
        "                        coalesce((salary_from+salary_to)/2, salary_from, salary_to)\n",
        "                    ), 0)\n",
        "                FROM public.vacancies \n",
        "                WHERE \n",
        "                    (((lower(name) like '%data scientist%'\n",
        "                    OR lower(name) like '%data science%'\n",
        "                    OR lower(name) like '%исследователь данных%'\n",
        "                    OR (name like '%ML%' AND lower(name) not like '%html%')\n",
        "                    OR lower(name) like '%machine learning%' \n",
        "                    OR lower(name) like '%машинн%обучен%')))\n",
        "                    AND (salary_from IS NOT NULL OR salary_to IS NOT NULL)\n",
        "                GROUP BY experience         \n",
        "            ''' "
      ]
    },
    {
      "cell_type": "code",
      "execution_count": 165,
      "id": "aRIJ0mZEwU1_",
      "metadata": {
        "id": "aRIJ0mZEwU1_"
      },
      "outputs": [
        {
          "name": "stdout",
          "output_type": "stream",
          "text": [
            "           experience     round\n",
            "0           Нет опыта   74643.0\n",
            "1  От 1 года до 3 лет  139675.0\n",
            "2       От 3 до 6 лет  243115.0\n"
          ]
        },
        {
          "name": "stderr",
          "output_type": "stream",
          "text": [
            "/var/folders/9t/d4bq7zb146v439lxxk1zxns00000gq/T/ipykernel_67786/1300537.py:2: UserWarning: pandas only supports SQLAlchemy connectable (engine/connection) or database string URI or sqlite3 DBAPI2 connection. Other DBAPI2 objects are not tested. Please consider using SQLAlchemy.\n",
            "  df = pd.read_sql_query(query_6_6, connection)\n"
          ]
        }
      ],
      "source": [
        "# результат запроса\n",
        "df = pd.read_sql_query(query_6_6, connection)\n",
        "print(df)"
      ]
    },
    {
      "cell_type": "markdown",
      "id": "6a7892b4-4113-4746-adce-18aa2844f18e",
      "metadata": {
        "id": "6a7892b4-4113-4746-adce-18aa2844f18e"
      },
      "source": [
        "***"
      ]
    },
    {
      "cell_type": "code",
      "execution_count": null,
      "id": "UjLWUptVwY1o",
      "metadata": {
        "id": "UjLWUptVwY1o"
      },
      "outputs": [],
      "source": [
        "# выводы по предметному анализу\n",
        "\n",
        "# Здесь нашли вакансии, связанные с данными, а также вакансии конкретно для дата-сайентистов.\n",
        "# Среди последних посчитали количество тех, которые подходят начинающим специалистам, \n",
        "# а также количество вакансий, в которых в качестве ключевых навыков указаны SQL/Postrges или Python, \n",
        "# посчитали среднее количество требуемых ключевых навыков,\n",
        "# определили среднюю зарплату в зависимости от опыта."
      ]
    },
    {
      "cell_type": "markdown",
      "id": "c0ED6fh7wiBT",
      "metadata": {
        "id": "c0ED6fh7wiBT"
      },
      "source": [
        "# Общий вывод по проекту"
      ]
    },
    {
      "cell_type": "code",
      "execution_count": null,
      "id": "h9B3BL-wwj18",
      "metadata": {
        "id": "h9B3BL-wwj18"
      },
      "outputs": [],
      "source": [
        "# подведем итог исследования, обобщите выводы\n",
        "# здесь можно (это будет плюсом) провести дополнительные исследования данных, сделать прогнозы, продумать варианты продолжения исследования"
      ]
    },
    {
      "cell_type": "markdown",
      "id": "9c4595c4",
      "metadata": {},
      "source": [
        "Наибольшее количество вакансий нашей базы данных находится в столицах и городах миллионниках, в небольших населённых пунктах вакансий гораздо меньше. Что собственно логично."
      ]
    },
    {
      "cell_type": "code",
      "execution_count": 167,
      "id": "1f8d0d60",
      "metadata": {},
      "outputs": [
        {
          "name": "stdout",
          "output_type": "stream",
          "text": [
            "                                                  name  count\n",
            "0                  Разработка программного обеспечения  12499\n",
            "1    Системная интеграция,  автоматизации технологи...  11034\n",
            "2    Интернет-компания (поисковики, платежные систе...   6413\n",
            "3                                                 Банк   2742\n",
            "4                                      Мобильная связь   1585\n",
            "..                                                 ...    ...\n",
            "288                               Спортивная федерация      5\n",
            "289                                          Химчистка      4\n",
            "290             Ассоциация в сфере культуры, искусства      2\n",
            "291                                          Автошкола      1\n",
            "292                                  Ритуальные услуги      1\n",
            "\n",
            "[293 rows x 2 columns]\n"
          ]
        },
        {
          "name": "stderr",
          "output_type": "stream",
          "text": [
            "/var/folders/9t/d4bq7zb146v439lxxk1zxns00000gq/T/ipykernel_67786/2381659707.py:12: UserWarning: pandas only supports SQLAlchemy connectable (engine/connection) or database string URI or sqlite3 DBAPI2 connection. Other DBAPI2 objects are not tested. Please consider using SQLAlchemy.\n",
            "  df = pd.read_sql_query(query, connection)\n"
          ]
        }
      ],
      "source": [
        "query = f'''SELECT \n",
        "                i.name,\n",
        "                count(v.id)\n",
        "            FROM \n",
        "                public.industries i\n",
        "                JOIN public.employers_industries ei ON ei.industry_id = i.id\n",
        "                JOIN public.employers e ON ei.employer_id = e.id\n",
        "                JOIN public.vacancies v ON v.employer_id = e.id\n",
        "            GROUP BY i.name \n",
        "            ORDER BY 2 DESC        \n",
        "        ''' \n",
        "df = pd.read_sql_query(query, connection)\n",
        "print(df)"
      ]
    },
    {
      "cell_type": "markdown",
      "id": "d43c907d",
      "metadata": {},
      "source": [
        "Как видно, максимальное количество вакансий находятся в таких сферах деятельности  как \"Разработка программного обеспечения\" и \"Системная интеграция, автоматизации технологических и бизнес-процессов предприятия, ИТ-консалтинг\". Дальше в рейтинге идут Интернет компании, Банки и Операторы сотовой связи. Не исключением по отраслям является и спрос на DS. А вот наименьшее количество вакансий в Автошколах и Ритуальных услугах. \n"
      ]
    },
    {
      "cell_type": "code",
      "execution_count": 169,
      "id": "5ee8ee1d",
      "metadata": {},
      "outputs": [
        {
          "name": "stdout",
          "output_type": "stream",
          "text": [
            "                                           key_skills\n",
            "0   Computer Vision\\tPyTorch\\tTensorflow\\tDeep Lea...\n",
            "1                                       Linux\\tPython\n",
            "2                                       Linux\\tPython\n",
            "3   Machine Learning\\tDeep Learning\\tData Science\\...\n",
            "4   Machine Learning\\tDeep Learning\\tData Science\\...\n",
            "5   Machine Learning\\tDeep Learning\\tData Science\\...\n",
            "6   ML\\tлинейные модели\\tRandom Forest\\tGradient B...\n",
            "7   Python\\tC++\\tОптимизация кода\\tАнализ кода\\tМа...\n",
            "8          Python\\tDjango Framework\\tSQL\\tXML\\tMS SQL\n",
            "9   Python\\tGit\\tTensorFlow\\tKeras\\tJupiter\\tNLP\\t...\n",
            "10  Python\\tLinux\\tGit\\tSQL\\tDocker\\tBash\\tOpenCV\\...\n",
            "11  Python\\tMachine Learning\\tPandas\\tSQL\\tNumpy\\t...\n",
            "12  Python\\tMachine Learning\\tМатематическое модел...\n",
            "13  Python\\tMATLAB\\tМатематическое моделирование\\t...\n",
            "14                                         Python\\tML\n",
            "15               Python\\tML\\tPytorch\\tComputer Vision\n",
            "16  Python\\tOpenCV\\tTensorflow\\tComputer Vision\\tН...\n",
            "17  Python\\tPyTorch\\tGit\\tTensorflow\\tMachine Lear...\n",
            "18  Python\\tSQL\\tData Mining\\tC++\\tМатематический ...\n",
            "19  Python\\tSQL\\tJava\\tМатематический анализ\\tМате...\n",
            "20  Python\\tSQL\\tJava\\tМатематический анализ\\tМате...\n",
            "21  Python\\tSQL\\tMachine Learning\\tData Science\\tА...\n",
            "22       Python\\tSQL\\tMachine Learning\\tDocker\\tNumpy\n",
            "23  Python\\tSQL\\tORACLE\\tСтатистический анализ\\tSp...\n",
            "24  Python\\tSQL\\tPostgreSQL\\tML\\tMachine Learning\\...\n",
            "25           Python\\tSQL\\tАнглийский язык\\tLinux\\tООП\n",
            "26  Python\\tSQL\\tАнглийский язык\\tОбучение и разви...\n",
            "27          Python\\tSQL\\tРабота в команде\\tOpenCV\\tML\n",
            "28  Python\\tTensorflow\\tPyTorch\\tMachine Learning\\...\n",
            "29  Python\\tUnix\\tАналитическое мышление\\tНейронны...\n",
            "30  Python\\tUnix\\tАналитическое мышление\\tНейронны...\n",
            "31  Python\\tМатематическая статистика\\tOracle Pl/S...\n",
            "32   Python\\tМатематическая статистика\\tАнализ данных\n",
            "33  Python\\tМатематическая статистика\\tПрогнозиров...\n",
            "34  PyTorch\\tMachine Learning\\tКонференции\\tPython...\n",
            "35  SQL\\tMS SQL\\tУдаленная работа\\tPython\\tМатемат...\n",
            "36                                 SQL\\tOracle Pl/SQL\n",
            "37  Английский язык\\tCJM\\tПодготовка презентаций\\t...\n",
            "38  Математический анализ\\tБазы данных\\tСтатистика...\n",
            "39  Математическое моделирование\\tАнализ данных\\tС...\n",
            "40  Оценка рисков\\tMS PowerPoint\\tСтатистический а...\n",
            "41  Оценка рисков\\tMS PowerPoint\\tСтатистический а...\n",
            "42  Оценка рисков\\tMS PowerPoint\\tСтатистический а...\n",
            "43  Оценка рисков\\tMS PowerPoint\\tСтатистический а...\n",
            "44  Оценка рисков\\tMS PowerPoint\\tСтатистический а...\n",
            "45  Оценка рисков\\tMS PowerPoint\\tСтатистический а...\n",
            "46  Оценка рисков\\tMS PowerPoint\\tСтатистический а...\n",
            "47  Оценка рисков\\tMS PowerPoint\\tСтатистический а...\n",
            "48  Оценка рисков\\tMS PowerPoint\\tСтатистический а...\n",
            "49                                               None\n",
            "50                                               None\n"
          ]
        },
        {
          "name": "stderr",
          "output_type": "stream",
          "text": [
            "/var/folders/9t/d4bq7zb146v439lxxk1zxns00000gq/T/ipykernel_67786/211770615.py:16: UserWarning: pandas only supports SQLAlchemy connectable (engine/connection) or database string URI or sqlite3 DBAPI2 connection. Other DBAPI2 objects are not tested. Please consider using SQLAlchemy.\n",
            "  df = pd.read_sql_query(query, connection)\n"
          ]
        }
      ],
      "source": [
        "#ключевые навыки для новичков DS\n",
        "query = f'''SELECT key_skills\n",
        "            FROM public.vacancies v\n",
        "            WHERE (lower(v.name) like '%data scientist%'\n",
        "                OR lower(v.name) like '%data science%'\n",
        "                OR lower(v.name) like '%исследователь данных%'\n",
        "                OR (v.name like '%ML%' AND lower(v.name) not like '%html%')\n",
        "                OR lower(v.name) like '%machine learning%' \n",
        "                OR lower(v.name) like '%машинн%обучен%')\n",
        "                \n",
        "                AND (lower(v.name) like '%junior%'\n",
        "                OR v.experience = 'Нет опыта'\n",
        "                OR v.employment = 'Стажировка')\n",
        "            ORDER BY 1\n",
        "        ''' \n",
        "df = pd.read_sql_query(query, connection)\n",
        "print(df)"
      ]
    },
    {
      "cell_type": "markdown",
      "id": "0d62178b",
      "metadata": {},
      "source": [
        "Ключевой навык для DS это Python, Математика, SQL."
      ]
    },
    {
      "cell_type": "markdown",
      "id": "a98112d2",
      "metadata": {},
      "source": [
        "В дальнейшем можно проанализирувать другие профессии. "
      ]
    }
  ],
  "metadata": {
    "colab": {
      "collapsed_sections": [
        "8d62a9f3-f64e-4fe7-bdac-c4dffa16155e"
      ],
      "provenance": []
    },
    "kernelspec": {
      "display_name": "Python 3 (ipykernel)",
      "language": "python",
      "name": "python3"
    },
    "language_info": {
      "codemirror_mode": {
        "name": "ipython",
        "version": 3
      },
      "file_extension": ".py",
      "mimetype": "text/x-python",
      "name": "python",
      "nbconvert_exporter": "python",
      "pygments_lexer": "ipython3",
      "version": "3.9.6"
    }
  },
  "nbformat": 4,
  "nbformat_minor": 5
}
