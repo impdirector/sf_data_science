{
 "cells": [
  {
   "cell_type": "code",
   "execution_count": 1,
   "metadata": {},
   "outputs": [],
   "source": [
    "import pandas as pd\n",
    "import numpy as np"
   ]
  },
  {
   "cell_type": "code",
   "execution_count": 2,
   "metadata": {},
   "outputs": [
    {
     "data": {
      "text/html": [
       "<div>\n",
       "<style scoped>\n",
       "    .dataframe tbody tr th:only-of-type {\n",
       "        vertical-align: middle;\n",
       "    }\n",
       "\n",
       "    .dataframe tbody tr th {\n",
       "        vertical-align: top;\n",
       "    }\n",
       "\n",
       "    .dataframe thead th {\n",
       "        text-align: right;\n",
       "    }\n",
       "</style>\n",
       "<table border=\"1\" class=\"dataframe\">\n",
       "  <thead>\n",
       "    <tr style=\"text-align: right;\">\n",
       "      <th></th>\n",
       "      <th>Pregnancies</th>\n",
       "      <th>Glucose</th>\n",
       "      <th>BloodPressure</th>\n",
       "      <th>SkinThickness</th>\n",
       "      <th>Insulin</th>\n",
       "      <th>BMI</th>\n",
       "      <th>DiabetesPedigreeFunction</th>\n",
       "      <th>Age</th>\n",
       "      <th>Outcome</th>\n",
       "      <th>Gender</th>\n",
       "    </tr>\n",
       "  </thead>\n",
       "  <tbody>\n",
       "    <tr>\n",
       "      <th>0</th>\n",
       "      <td>6</td>\n",
       "      <td>98</td>\n",
       "      <td>58</td>\n",
       "      <td>33</td>\n",
       "      <td>190</td>\n",
       "      <td>34.0</td>\n",
       "      <td>0.430</td>\n",
       "      <td>43</td>\n",
       "      <td>0</td>\n",
       "      <td>Female</td>\n",
       "    </tr>\n",
       "    <tr>\n",
       "      <th>1</th>\n",
       "      <td>2</td>\n",
       "      <td>112</td>\n",
       "      <td>75</td>\n",
       "      <td>32</td>\n",
       "      <td>0</td>\n",
       "      <td>35.7</td>\n",
       "      <td>0.148</td>\n",
       "      <td>21</td>\n",
       "      <td>0</td>\n",
       "      <td>Female</td>\n",
       "    </tr>\n",
       "    <tr>\n",
       "      <th>2</th>\n",
       "      <td>2</td>\n",
       "      <td>108</td>\n",
       "      <td>64</td>\n",
       "      <td>0</td>\n",
       "      <td>0</td>\n",
       "      <td>30.8</td>\n",
       "      <td>0.158</td>\n",
       "      <td>21</td>\n",
       "      <td>0</td>\n",
       "      <td>Female</td>\n",
       "    </tr>\n",
       "    <tr>\n",
       "      <th>3</th>\n",
       "      <td>8</td>\n",
       "      <td>107</td>\n",
       "      <td>80</td>\n",
       "      <td>0</td>\n",
       "      <td>0</td>\n",
       "      <td>24.6</td>\n",
       "      <td>0.856</td>\n",
       "      <td>34</td>\n",
       "      <td>0</td>\n",
       "      <td>Female</td>\n",
       "    </tr>\n",
       "    <tr>\n",
       "      <th>4</th>\n",
       "      <td>7</td>\n",
       "      <td>136</td>\n",
       "      <td>90</td>\n",
       "      <td>0</td>\n",
       "      <td>0</td>\n",
       "      <td>29.9</td>\n",
       "      <td>0.210</td>\n",
       "      <td>50</td>\n",
       "      <td>0</td>\n",
       "      <td>Female</td>\n",
       "    </tr>\n",
       "  </tbody>\n",
       "</table>\n",
       "</div>"
      ],
      "text/plain": [
       "   Pregnancies  Glucose  BloodPressure  SkinThickness  Insulin   BMI  \\\n",
       "0            6       98             58             33      190  34.0   \n",
       "1            2      112             75             32        0  35.7   \n",
       "2            2      108             64              0        0  30.8   \n",
       "3            8      107             80              0        0  24.6   \n",
       "4            7      136             90              0        0  29.9   \n",
       "\n",
       "   DiabetesPedigreeFunction  Age  Outcome  Gender  \n",
       "0                     0.430   43        0  Female  \n",
       "1                     0.148   21        0  Female  \n",
       "2                     0.158   21        0  Female  \n",
       "3                     0.856   34        0  Female  \n",
       "4                     0.210   50        0  Female  "
      ]
     },
     "execution_count": 2,
     "metadata": {},
     "output_type": "execute_result"
    }
   ],
   "source": [
    "diabetes = pd.read_csv('data/diabetes_data.csv')\n",
    "diabetes.head()"
   ]
  },
  {
   "cell_type": "markdown",
   "metadata": {},
   "source": [
    "### Признаки в данных:"
   ]
  },
  {
   "cell_type": "markdown",
   "metadata": {},
   "source": [
    "Pregnancies — количество беременностей.\n",
    "\n",
    "Glucose — концентрация глюкозы в плазме через два часа при пероральном тесте на толерантность к глюкозе.\n",
    "\n",
    "BloodPressure — диастолическое артериальное давление (мм рт. ст.).\n",
    "\n",
    "SkinThickness — толщина кожной складки трицепса (мм).\n",
    "\n",
    "Insulin — двухчасовой сывороточный инсулин (ме Ед/мл).\n",
    "\n",
    "BMI — индекс массы тела\n",
    "\n",
    "DiabetesPedigreeFunction — функция родословной диабета (чем она выше, тем выше шанс наследственной заболеваемости).\n",
    "\n",
    "Age — возраст.\n",
    "\n",
    "Outcome — наличие диабета (0 — нет, 1 — да)."
   ]
  },
  {
   "cell_type": "code",
   "execution_count": 4,
   "metadata": {},
   "outputs": [
    {
     "name": "stdout",
     "output_type": "stream",
     "text": [
      "<class 'pandas.core.frame.DataFrame'>\n",
      "RangeIndex: 778 entries, 0 to 777\n",
      "Data columns (total 10 columns):\n",
      " #   Column                    Non-Null Count  Dtype  \n",
      "---  ------                    --------------  -----  \n",
      " 0   Pregnancies               778 non-null    int64  \n",
      " 1   Glucose                   778 non-null    int64  \n",
      " 2   BloodPressure             778 non-null    int64  \n",
      " 3   SkinThickness             778 non-null    int64  \n",
      " 4   Insulin                   778 non-null    int64  \n",
      " 5   BMI                       778 non-null    float64\n",
      " 6   DiabetesPedigreeFunction  778 non-null    float64\n",
      " 7   Age                       778 non-null    int64  \n",
      " 8   Outcome                   778 non-null    int64  \n",
      " 9   Gender                    778 non-null    object \n",
      "dtypes: float64(2), int64(7), object(1)\n",
      "memory usage: 60.9+ KB\n"
     ]
    },
    {
     "data": {
      "text/html": [
       "<div>\n",
       "<style scoped>\n",
       "    .dataframe tbody tr th:only-of-type {\n",
       "        vertical-align: middle;\n",
       "    }\n",
       "\n",
       "    .dataframe tbody tr th {\n",
       "        vertical-align: top;\n",
       "    }\n",
       "\n",
       "    .dataframe thead th {\n",
       "        text-align: right;\n",
       "    }\n",
       "</style>\n",
       "<table border=\"1\" class=\"dataframe\">\n",
       "  <thead>\n",
       "    <tr style=\"text-align: right;\">\n",
       "      <th></th>\n",
       "      <th>Pregnancies</th>\n",
       "      <th>Glucose</th>\n",
       "      <th>BloodPressure</th>\n",
       "      <th>SkinThickness</th>\n",
       "      <th>Insulin</th>\n",
       "      <th>BMI</th>\n",
       "      <th>DiabetesPedigreeFunction</th>\n",
       "      <th>Age</th>\n",
       "      <th>Outcome</th>\n",
       "    </tr>\n",
       "  </thead>\n",
       "  <tbody>\n",
       "    <tr>\n",
       "      <th>count</th>\n",
       "      <td>778.000000</td>\n",
       "      <td>778.000000</td>\n",
       "      <td>778.000000</td>\n",
       "      <td>778.000000</td>\n",
       "      <td>778.000000</td>\n",
       "      <td>778.000000</td>\n",
       "      <td>778.000000</td>\n",
       "      <td>778.000000</td>\n",
       "      <td>778.000000</td>\n",
       "    </tr>\n",
       "    <tr>\n",
       "      <th>mean</th>\n",
       "      <td>3.848329</td>\n",
       "      <td>120.822622</td>\n",
       "      <td>69.035990</td>\n",
       "      <td>20.457584</td>\n",
       "      <td>79.521851</td>\n",
       "      <td>31.982262</td>\n",
       "      <td>0.470871</td>\n",
       "      <td>33.317481</td>\n",
       "      <td>0.344473</td>\n",
       "    </tr>\n",
       "    <tr>\n",
       "      <th>std</th>\n",
       "      <td>3.360782</td>\n",
       "      <td>31.883264</td>\n",
       "      <td>19.432323</td>\n",
       "      <td>15.954452</td>\n",
       "      <td>114.862405</td>\n",
       "      <td>7.853917</td>\n",
       "      <td>0.330669</td>\n",
       "      <td>11.816300</td>\n",
       "      <td>0.475502</td>\n",
       "    </tr>\n",
       "    <tr>\n",
       "      <th>min</th>\n",
       "      <td>0.000000</td>\n",
       "      <td>0.000000</td>\n",
       "      <td>0.000000</td>\n",
       "      <td>0.000000</td>\n",
       "      <td>0.000000</td>\n",
       "      <td>0.000000</td>\n",
       "      <td>0.078000</td>\n",
       "      <td>21.000000</td>\n",
       "      <td>0.000000</td>\n",
       "    </tr>\n",
       "    <tr>\n",
       "      <th>25%</th>\n",
       "      <td>1.000000</td>\n",
       "      <td>99.000000</td>\n",
       "      <td>62.000000</td>\n",
       "      <td>0.000000</td>\n",
       "      <td>0.000000</td>\n",
       "      <td>27.300000</td>\n",
       "      <td>0.241500</td>\n",
       "      <td>24.000000</td>\n",
       "      <td>0.000000</td>\n",
       "    </tr>\n",
       "    <tr>\n",
       "      <th>50%</th>\n",
       "      <td>3.000000</td>\n",
       "      <td>117.000000</td>\n",
       "      <td>72.000000</td>\n",
       "      <td>23.000000</td>\n",
       "      <td>27.000000</td>\n",
       "      <td>32.000000</td>\n",
       "      <td>0.370000</td>\n",
       "      <td>29.000000</td>\n",
       "      <td>0.000000</td>\n",
       "    </tr>\n",
       "    <tr>\n",
       "      <th>75%</th>\n",
       "      <td>6.000000</td>\n",
       "      <td>140.000000</td>\n",
       "      <td>80.000000</td>\n",
       "      <td>32.000000</td>\n",
       "      <td>126.750000</td>\n",
       "      <td>36.500000</td>\n",
       "      <td>0.625500</td>\n",
       "      <td>41.000000</td>\n",
       "      <td>1.000000</td>\n",
       "    </tr>\n",
       "    <tr>\n",
       "      <th>max</th>\n",
       "      <td>17.000000</td>\n",
       "      <td>199.000000</td>\n",
       "      <td>122.000000</td>\n",
       "      <td>99.000000</td>\n",
       "      <td>846.000000</td>\n",
       "      <td>67.100000</td>\n",
       "      <td>2.420000</td>\n",
       "      <td>81.000000</td>\n",
       "      <td>1.000000</td>\n",
       "    </tr>\n",
       "  </tbody>\n",
       "</table>\n",
       "</div>"
      ],
      "text/plain": [
       "       Pregnancies     Glucose  BloodPressure  SkinThickness     Insulin  \\\n",
       "count   778.000000  778.000000     778.000000     778.000000  778.000000   \n",
       "mean      3.848329  120.822622      69.035990      20.457584   79.521851   \n",
       "std       3.360782   31.883264      19.432323      15.954452  114.862405   \n",
       "min       0.000000    0.000000       0.000000       0.000000    0.000000   \n",
       "25%       1.000000   99.000000      62.000000       0.000000    0.000000   \n",
       "50%       3.000000  117.000000      72.000000      23.000000   27.000000   \n",
       "75%       6.000000  140.000000      80.000000      32.000000  126.750000   \n",
       "max      17.000000  199.000000     122.000000      99.000000  846.000000   \n",
       "\n",
       "              BMI  DiabetesPedigreeFunction         Age     Outcome  \n",
       "count  778.000000                778.000000  778.000000  778.000000  \n",
       "mean    31.982262                  0.470871   33.317481    0.344473  \n",
       "std      7.853917                  0.330669   11.816300    0.475502  \n",
       "min      0.000000                  0.078000   21.000000    0.000000  \n",
       "25%     27.300000                  0.241500   24.000000    0.000000  \n",
       "50%     32.000000                  0.370000   29.000000    0.000000  \n",
       "75%     36.500000                  0.625500   41.000000    1.000000  \n",
       "max     67.100000                  2.420000   81.000000    1.000000  "
      ]
     },
     "execution_count": 4,
     "metadata": {},
     "output_type": "execute_result"
    }
   ],
   "source": [
    "diabetes.info()\n",
    "diabetes.describe()"
   ]
  },
  {
   "cell_type": "code",
   "execution_count": 6,
   "metadata": {},
   "outputs": [
    {
     "name": "stdout",
     "output_type": "stream",
     "text": [
      "Число найденных дубликатов: 10\n",
      "Результирующее число записей: 768\n"
     ]
    }
   ],
   "source": [
    "dupl_columns = list(diabetes.columns)\n",
    "\n",
    "mask = diabetes.duplicated(subset=dupl_columns)\n",
    "diabetes_duplicates = diabetes[mask]\n",
    "print(f'Число найденных дубликатов: {diabetes_duplicates.shape[0]}')\n",
    "\n",
    "diabetes_dedupped = diabetes.drop_duplicates(subset=dupl_columns)\n",
    "print(f'Результирующее число записей: {diabetes_dedupped.shape[0]}')"
   ]
  },
  {
   "cell_type": "code",
   "execution_count": 7,
   "metadata": {},
   "outputs": [
    {
     "name": "stdout",
     "output_type": "stream",
     "text": [
      "Gender: 100.0% одинаковых значений\n",
      "Результирующее число признаков: 9\n"
     ]
    }
   ],
   "source": [
    "def find_non_information_cols(data, threshold=0.95):\n",
    "\n",
    "    #список неинформативных признаков\n",
    "    low_information_cols = [] \n",
    "\n",
    "    #цикл по всем столбцам\n",
    "    for col in data.columns:\n",
    "        #наибольшая относительная частота в признаке\n",
    "        top_freq = data[col].value_counts(normalize=True).max()\n",
    "        #доля уникальных значений от размера признака\n",
    "        nunique_ratio = data[col].nunique() / data[col].count()\n",
    "        # сравниваем наибольшую частоту с порогом\n",
    "        if top_freq > threshold:\n",
    "            low_information_cols.append(col)\n",
    "            print(f'{col}: {round(top_freq*100, 2)}% одинаковых значений')\n",
    "        # сравниваем долю уникальных значений с порогом\n",
    "        if nunique_ratio > threshold:\n",
    "            low_information_cols.append(col)\n",
    "            print(f'{col}: {round(nunique_ratio*100, 2)}% уникальных значений')\n",
    "            \n",
    "    return low_information_cols\n",
    "\n",
    "low_information_cols = find_non_information_cols(diabetes_dedupped)\n",
    "\n",
    "cleaned_diabetes = diabetes_dedupped.drop(low_information_cols, axis=1)\n",
    "print(f'Результирующее число признаков: {cleaned_diabetes.shape[1]}')"
   ]
  },
  {
   "cell_type": "code",
   "execution_count": 17,
   "metadata": {},
   "outputs": [
    {
     "data": {
      "text/plain": [
       "Insulin          48.697917\n",
       "SkinThickness    29.557292\n",
       "BloodPressure     4.557292\n",
       "BMI               1.432292\n",
       "Glucose           0.651042\n",
       "dtype: float64"
      ]
     },
     "metadata": {},
     "output_type": "display_data"
    }
   ],
   "source": [
    "def nan_replace(arg):\n",
    "    if arg == 0:\n",
    "        return np.nan\n",
    "    else:\n",
    "        return arg\n",
    "    \n",
    "cleaned_diabetes['Insulin'] = cleaned_diabetes['Insulin'].apply(nan_replace)\n",
    "cleaned_diabetes['Glucose'] = cleaned_diabetes['Glucose'].apply(nan_replace)\n",
    "cleaned_diabetes['BloodPressure'] = cleaned_diabetes['BloodPressure'].apply(nan_replace)\n",
    "cleaned_diabetes['SkinThickness'] = cleaned_diabetes['SkinThickness'].apply(nan_replace)\n",
    "cleaned_diabetes['BMI'] = cleaned_diabetes['BMI'].apply(nan_replace)\n",
    "\n",
    "# получаем столбцы с пропусками и процент пропуска в тих столбцах\n",
    "\n",
    "cols_null_percent = cleaned_diabetes.isnull().mean() * 100\n",
    "cols_with_null = cols_null_percent[cols_null_percent>0].sort_values(ascending=False)\n",
    "display(cols_with_null)\n"
   ]
  },
  {
   "cell_type": "code",
   "execution_count": 18,
   "metadata": {},
   "outputs": [],
   "source": [
    "# функция удаляет столбцы(признаки) где число пропусков более порогового значение (по умлочанию 0.7 или 30%)\n",
    "def del_nan_cols(data, thresh=0.7):\n",
    "    #отбрасываем столбцы с числом пропусков более 30% (100-70) по умолчанию\n",
    "    n = data.shape[0] #число строк в таблице\n",
    "    thresh = n*thresh\n",
    "    data = data.dropna(thresh=thresh, axis=1)\n",
    "    \n",
    "    return data"
   ]
  },
  {
   "cell_type": "code",
   "execution_count": 19,
   "metadata": {},
   "outputs": [
    {
     "name": "stdout",
     "output_type": "stream",
     "text": [
      "<class 'pandas.core.frame.DataFrame'>\n",
      "Index: 768 entries, 0 to 767\n",
      "Data columns (total 8 columns):\n",
      " #   Column                    Non-Null Count  Dtype  \n",
      "---  ------                    --------------  -----  \n",
      " 0   Pregnancies               768 non-null    int64  \n",
      " 1   Glucose                   763 non-null    float64\n",
      " 2   BloodPressure             733 non-null    float64\n",
      " 3   SkinThickness             541 non-null    float64\n",
      " 4   BMI                       757 non-null    float64\n",
      " 5   DiabetesPedigreeFunction  768 non-null    float64\n",
      " 6   Age                       768 non-null    int64  \n",
      " 7   Outcome                   768 non-null    int64  \n",
      "dtypes: float64(5), int64(3)\n",
      "memory usage: 54.0 KB\n"
     ]
    }
   ],
   "source": [
    "cleaned_diabetes = del_nan_cols(cleaned_diabetes) # удаляем столбцы где пропусков более 30%\n",
    "cleaned_diabetes.info()"
   ]
  },
  {
   "cell_type": "code",
   "execution_count": 20,
   "metadata": {},
   "outputs": [
    {
     "data": {
      "text/plain": [
       "761"
      ]
     },
     "execution_count": 20,
     "metadata": {},
     "output_type": "execute_result"
    }
   ],
   "source": [
    "#отбрасываем строки с числом пропусков более 2 в строке\n",
    "m = cleaned_diabetes.shape[1] #число признаков\n",
    "cleaned_diabetes = cleaned_diabetes.dropna(thresh=m-2, axis=0)\n",
    "cleaned_diabetes.shape[0]"
   ]
  },
  {
   "cell_type": "code",
   "execution_count": 23,
   "metadata": {},
   "outputs": [
    {
     "data": {
      "text/plain": [
       "29.109067017082786"
      ]
     },
     "execution_count": 23,
     "metadata": {},
     "output_type": "execute_result"
    }
   ],
   "source": [
    "#создаём словарь 'имя_столбца': число (признак), на который надо заменить пропуски \n",
    "values = {\n",
    "    'Glucose': cleaned_diabetes['Glucose'].median(),\n",
    "    'BloodPressure': cleaned_diabetes['BloodPressure'].median(),\n",
    "    'SkinThickness': cleaned_diabetes['SkinThickness'].median(),\n",
    "    'BMI': cleaned_diabetes['BMI'].median(),\n",
    "}\n",
    "\n",
    "cleaned_diabetes = cleaned_diabetes.fillna(values)\n",
    "\n",
    "cleaned_diabetes['SkinThickness'].mean()"
   ]
  },
  {
   "cell_type": "code",
   "execution_count": 37,
   "metadata": {},
   "outputs": [],
   "source": [
    "def outliers_iqr_mod(data, feature, log_scale=False, left=1.5, right=1.5, zero_expect=False):\n",
    "    \n",
    "    if log_scale:\n",
    "        \n",
    "        x = np.log(data[feature]+int(zero_expect))\n",
    "    else:\n",
    "        x = data[feature]\n",
    " \n",
    "    quartile_1, quartile_3 = x.quantile(0.25), x.quantile(0.75),\n",
    "    iqr = quartile_3 - quartile_1\n",
    "    lower_bound = quartile_1 - (iqr * left)\n",
    "    upper_bound = quartile_3 + (iqr * right)\n",
    "    outliers = data[(x < lower_bound) | (x > upper_bound)]\n",
    "    cleaned = data[(x >= lower_bound) & (x <= upper_bound)]\n",
    "    return outliers, cleaned"
   ]
  },
  {
   "cell_type": "code",
   "execution_count": 25,
   "metadata": {},
   "outputs": [
    {
     "name": "stdout",
     "output_type": "stream",
     "text": [
      "Число выбросов по методу Тьюки: 87\n",
      "Результирующее число записей: 674\n"
     ]
    }
   ],
   "source": [
    "outliers, cleaned = outliers_iqr_mod(cleaned_diabetes, 'SkinThickness')\n",
    "print(f'Число выбросов по методу Тьюки: {outliers.shape[0]}')\n",
    "print(f'Результирующее число записей: {cleaned.shape[0]}')"
   ]
  },
  {
   "cell_type": "code",
   "execution_count": 38,
   "metadata": {},
   "outputs": [],
   "source": [
    "def outliers_z_score_mod(data, feature, log_scale=False, left=3, right=3, zero_expect=False):\n",
    "    if log_scale:\n",
    "        x = np.log(data[feature]+int(zero_expect))\n",
    "    else:\n",
    "        x = data[feature]\n",
    "    mu = x.mean()\n",
    "    sigma = x.std()\n",
    "    lower_bound = mu - left * sigma\n",
    "    upper_bound = mu + right * sigma\n",
    "    outliers = data[(x < lower_bound) | (x > upper_bound)]\n",
    "    cleaned = data[(x >= lower_bound) & (x <= upper_bound)]\n",
    "    return outliers, cleaned"
   ]
  },
  {
   "cell_type": "code",
   "execution_count": 42,
   "metadata": {},
   "outputs": [
    {
     "name": "stdout",
     "output_type": "stream",
     "text": [
      "Число выбросов по методу z-отклонения: 4\n",
      "Результирующее число записей: 757\n",
      "Число выбросов в DiabetesPedigreeFunction: 29\n",
      "Результирующее число записей: 732\n",
      "Число выбросов в DiabetesPedigreeFunction в log-масштабе: 0\n",
      "Результирующее число записей: 761\n"
     ]
    }
   ],
   "source": [
    "outliers, cleaned = outliers_z_score_mod(cleaned_diabetes, 'SkinThickness')\n",
    "print(f'Число выбросов по методу z-отклонения: {outliers.shape[0]}')\n",
    "print(f'Результирующее число записей: {cleaned.shape[0]}')\n",
    "\n",
    "outliers, cleaned = outliers_iqr_mod(cleaned_diabetes, 'DiabetesPedigreeFunction')\n",
    "print(f'Число выбросов в DiabetesPedigreeFunction: {outliers.shape[0]}')\n",
    "print(f'Результирующее число записей: {cleaned.shape[0]}')\n",
    "\n",
    "outliers, cleaned = outliers_iqr_mod(cleaned_diabetes, 'DiabetesPedigreeFunction', log_scale=True, zero_expect=False)\n",
    "print(f'Число выбросов в DiabetesPedigreeFunction в log-масштабе: {outliers.shape[0]}')\n",
    "print(f'Результирующее число записей: {cleaned.shape[0]}')"
   ]
  }
 ],
 "metadata": {
  "kernelspec": {
   "display_name": ".venv",
   "language": "python",
   "name": "python3"
  },
  "language_info": {
   "codemirror_mode": {
    "name": "ipython",
    "version": 3
   },
   "file_extension": ".py",
   "mimetype": "text/x-python",
   "name": "python",
   "nbconvert_exporter": "python",
   "pygments_lexer": "ipython3",
   "version": "3.9.6"
  }
 },
 "nbformat": 4,
 "nbformat_minor": 2
}
